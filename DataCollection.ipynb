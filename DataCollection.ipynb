{
 "cells": [
  {
   "cell_type": "code",
   "execution_count": 1,
   "metadata": {},
   "outputs": [],
   "source": [
    "import speech_recognition as sr\n",
    "name = \"Jack\"\n",
    "r = sr.Recognizer()\n",
    "m = sr.Microphone()\n",
    "iteration = 1"
   ]
  },
  {
   "cell_type": "code",
   "execution_count": 2,
   "metadata": {},
   "outputs": [
    {
     "name": "stdout",
     "output_type": "stream",
     "text": [
      "<speech_recognition.AudioData object at 0x000001D7803E0080>\n"
     ]
    }
   ],
   "source": [
    "with m as source:\n",
    "    audio = r.listen(source)\n",
    "    print(audio)\n",
    "#Write to audio corpus\n",
    "with open(\"./audio/{0}-{1}.wav\".format(name,iteration), \"wb\") as f:\n",
    "    f.write(audio.get_wav_data())\n",
    "with open(\"./cnn/data/{0}/{1}.wav\".format(name,iteration,\"wb\") as f:\n",
    "    f.write(audio.get_wav_data())\n",
    "with open(\"./gmm/data/{0}-{1}.wav\".format(name,iteration,\"wb\") as f:\n",
    "    f.write(audio.get_wav_data())\n",
    "iteration += 1"
   ]
  },
  {
   "cell_type": "code",
   "execution_count": 44,
   "metadata": {},
   "outputs": [],
   "source": []
  }
 ],
 "metadata": {
  "kernelspec": {
   "display_name": "Python 3",
   "language": "python",
   "name": "python3"
  },
  "language_info": {
   "codemirror_mode": {
    "name": "ipython",
    "version": 3
   },
   "file_extension": ".py",
   "mimetype": "text/x-python",
   "name": "python",
   "nbconvert_exporter": "python",
   "pygments_lexer": "ipython3",
   "version": "3.6.8"
  }
 },
 "nbformat": 4,
 "nbformat_minor": 2
}
