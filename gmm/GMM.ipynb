{
 "cells": [
  {
   "cell_type": "code",
   "execution_count": 1,
   "metadata": {
    "scrolled": true
   },
   "outputs": [
    {
     "name": "stdout",
     "output_type": "stream",
     "text": [
      "+ modeling completed for speaker: Jack.gmm  with data point =  (5652, 40)\n",
      "+ modeling completed for speaker: Other.gmm  with data point =  (6372, 40)\n"
     ]
    }
   ],
   "source": [
    "import pickle\n",
    "import numpy as np\n",
    "from scipy.io.wavfile import read\n",
    "from sklearn.mixture import GaussianMixture as GMM\n",
    "from FeatureExtraction import extract_features\n",
    "import os\n",
    "#from speakerfeatures import extract_features\n",
    "import warnings\n",
    "warnings.filterwarnings(\"ignore\")\n",
    "source   = './data/'   \n",
    "dest = \"\"\n",
    "count = 1\n",
    "features = np.asarray(())\n",
    "label = 0\n",
    "training_pool = 30\n",
    "for path in sorted(os.listdir(source)):    \n",
    "    path = path.strip()       \n",
    "    # read the audio\n",
    "    sr,audio = read(source + path)\n",
    "    labels=[\"Jack\",\"Other\"]\n",
    "    # extract 40 dimensional MFCC & delta MFCC features\n",
    "    vector   = extract_features(audio,sr)\n",
    "    if features.size == 0:\n",
    "        features = vector\n",
    "    else:\n",
    "        features = np.vstack((features, vector))\n",
    "    if count == training_pool:    \n",
    "        gmm = GMM(n_components = 16, max_iter = 200, covariance_type='diag',n_init = 3)\n",
    "        gmm.fit(features)\n",
    "        # dumping the trained gaussian model\n",
    "        picklefile = \"{0}.gmm\".format(labels[label])\n",
    "        label = 1\n",
    "        pickle.dump(gmm,open(picklefile,'wb'))\n",
    "        print('+ modeling completed for speaker:',picklefile,\" with data point = \",features.shape   )\n",
    "        features = np.asarray(())\n",
    "        count = 0\n",
    "    count = count + 1"
   ]
  },
  {
   "cell_type": "code",
   "execution_count": null,
   "metadata": {},
   "outputs": [],
   "source": []
  }
 ],
 "metadata": {
  "kernelspec": {
   "display_name": "Python 3",
   "language": "python",
   "name": "python3"
  },
  "language_info": {
   "codemirror_mode": {
    "name": "ipython",
    "version": 3
   },
   "file_extension": ".py",
   "mimetype": "text/x-python",
   "name": "python",
   "nbconvert_exporter": "python",
   "pygments_lexer": "ipython3",
   "version": "3.6.8"
  }
 },
 "nbformat": 4,
 "nbformat_minor": 2
}
